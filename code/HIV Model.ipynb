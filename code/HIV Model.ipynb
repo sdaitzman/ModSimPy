{
 "cells": [
  {
   "cell_type": "markdown",
   "metadata": {},
   "source": [
    "# HIV Model\n",
    "Sam Daitzman / Adi Sudhakar"
   ]
  },
  {
   "cell_type": "code",
   "execution_count": 49,
   "metadata": {},
   "outputs": [],
   "source": [
    "# Configure Jupyter so figures appear in the notebook\n",
    "%matplotlib inline\n",
    "\n",
    "# Configure Jupyter to display the assigned value after an assignment\n",
    "%config InteractiveShell.ast_node_interactivity='last_expr_or_assign'\n",
    "\n",
    "# import functions from the modsim.py module\n",
    "from modsim import *\n",
    "import seaborn as sns"
   ]
  },
  {
   "cell_type": "code",
   "execution_count": 9,
   "metadata": {},
   "outputs": [
    {
     "data": {
      "text/html": [
       "<div>\n",
       "<style scoped>\n",
       "    .dataframe tbody tr th:only-of-type {\n",
       "        vertical-align: middle;\n",
       "    }\n",
       "\n",
       "    .dataframe tbody tr th {\n",
       "        vertical-align: top;\n",
       "    }\n",
       "\n",
       "    .dataframe thead th {\n",
       "        text-align: right;\n",
       "    }\n",
       "</style>\n",
       "<table border=\"1\" class=\"dataframe\">\n",
       "  <thead>\n",
       "    <tr style=\"text-align: right;\">\n",
       "      <th></th>\n",
       "      <th>values</th>\n",
       "    </tr>\n",
       "  </thead>\n",
       "  <tbody>\n",
       "    <tr>\n",
       "      <th>R</th>\n",
       "      <td>1.000000e+03</td>\n",
       "    </tr>\n",
       "    <tr>\n",
       "      <th>L</th>\n",
       "      <td>0.000000e+00</td>\n",
       "    </tr>\n",
       "    <tr>\n",
       "      <th>E</th>\n",
       "      <td>0.000000e+00</td>\n",
       "    </tr>\n",
       "    <tr>\n",
       "      <th>V</th>\n",
       "      <td>4.000000e-07</td>\n",
       "    </tr>\n",
       "  </tbody>\n",
       "</table>\n",
       "</div>"
      ],
      "text/plain": [
       "R    1.000000e+03\n",
       "L    0.000000e+00\n",
       "E    0.000000e+00\n",
       "V    4.000000e-07\n",
       "dtype: float64"
      ]
     },
     "execution_count": 9,
     "metadata": {},
     "output_type": "execute_result"
    }
   ],
   "source": [
    "state = State(\n",
    "    R=1000, # activated normal lymphocytes\n",
    "    L=0, # latently infected\n",
    "    E=0, # actively infected\n",
    "    V=4e-7 # free virions\n",
    ")"
   ]
  },
  {
   "cell_type": "code",
   "execution_count": 47,
   "metadata": {},
   "outputs": [],
   "source": [
    "system = System(\n",
    "    gamma=1.36,   # birthrate of R\n",
    "    mu=1.36e-3,   # natural deathrate of R and L\n",
    "    delta=0.33,   # deathrate of E\n",
    "    beta=0.00027, # R-to-L conversion rate (per virion)\n",
    "    alpha=3.6e-2, # L-to-E rate\n",
    "    pie=100,      # virion creation rate\n",
    "    sigma=2,      # virion death rate\n",
    "    rho=0.1,      # proportion of cells becoming latently infected upon infection\n",
    "    tau=0.2,      # proportion of cells activated\n",
    "    t_0=1, t_end=1201,\n",
    "    dt = 1/24\n",
    ");"
   ]
  },
  {
   "cell_type": "code",
   "execution_count": 41,
   "metadata": {},
   "outputs": [],
   "source": [
    "def update_func(system, state):\n",
    "    # suggestion from Allison: first calculate named flows here to guarantee conservation\n",
    "    unpack(system)\n",
    "    \n",
    "    drdt = gamma * tau - mu * state.R - beta * state.R * state.V\n",
    "    dldt = rho * beta * state.R * state.V - mu * state.L - alpha * state.L\n",
    "    dedt = (1 - rho) * beta * state.R * state.V + alpha * state.L - delta * state.E\n",
    "    dvdt = pie * state.E - sigma * state.V\n",
    "    \n",
    "    state.R += drdt * dt\n",
    "    state.L += dldt * dt\n",
    "    state.E += dedt * dt\n",
    "    state.V += dvdt * dt\n",
    "    return state"
   ]
  },
  {
   "cell_type": "code",
   "execution_count": 37,
   "metadata": {},
   "outputs": [],
   "source": [
    "def run_simulation(system, state, update_func):\n",
    "    frame = TimeFrame(columns = state.index)\n",
    "    frame.row[system.t_0] = state\n",
    "    \n",
    "    for t in linrange(system.t_0, system.t_end):\n",
    "        frame.row[t+1] = update_func(system, frame.row[t])\n",
    "    return frame"
   ]
  },
  {
   "cell_type": "code",
   "execution_count": 50,
   "metadata": {},
   "outputs": [
    {
     "data": {
      "text/plain": [
       "<matplotlib.axes._subplots.AxesSubplot at 0x115220630>"
      ]
     },
     "execution_count": 50,
     "metadata": {},
     "output_type": "execute_result"
    },
    {
     "data": {
      "image/png": "[encoded data removed]",
      "text/plain": [
       "<Figure size 432x288 with 1 Axes>"
      ]
     },
     "metadata": {},
     "output_type": "display_data"
    }
   ],
   "source": [
    "state = State(\n",
    "    R=1000, # activated normal lymphocytes\n",
    "    L=0, # latently infected\n",
    "    E=0, # actively infected\n",
    "    V=4e-7 # free virions\n",
    ")\n",
    "run_simulation(system, state, update_func).plot()"
   ]
  },
  {
   "cell_type": "code",
   "execution_count": null,
   "metadata": {},
   "outputs": [],
   "source": []
  },
  {
   "cell_type": "code",
   "execution_count": null,
   "metadata": {},
   "outputs": [],
   "source": []
  }
 ],
 "metadata": {
  "kernelspec": {
   "display_name": "Python 3",
   "language": "python",
   "name": "python3"
  },
  "language_info": {
   "codemirror_mode": {
    "name": "ipython",
    "version": 3
   },
   "file_extension": ".py",
   "mimetype": "text/x-python",
   "name": "python",
   "nbconvert_exporter": "python",
   "pygments_lexer": "ipython3",
   "version": "3.6.6"
  }
 },
 "nbformat": 4,
 "nbformat_minor": 2
}
