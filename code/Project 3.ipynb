{
 "cells": [
  {
   "cell_type": "markdown",
   "metadata": {
    "colab_type": "text",
    "id": "qEb5Fl3ZyVJm"
   },
   "source": [
    "# Why Walk When You Can Zipline?\n",
    "\n",
    "Sam Daitzman and Jocelyn Jimenez"
   ]
  },
  {
   "cell_type": "code",
   "execution_count": 1,
   "metadata": {
    "colab": {},
    "colab_type": "code",
    "id": "Y1DkmasdyVJp"
   },
   "outputs": [],
   "source": [
    "# Configure Jupyter so figures appear in the notebook\n",
    "%matplotlib inline\n",
    "\n",
    "# Configure Jupyter to display the assigned value after an assignment\n",
    "%config InteractiveShell.ast_node_interactivity='last_expr'\n",
    "\n",
    "# import functions from the modsim.py module\n",
    "from modsim import *"
   ]
  },
  {
   "cell_type": "markdown",
   "metadata": {
    "colab_type": "text",
    "id": "EBbygIvbyVLj"
   },
   "source": [
    "# Introduction\n",
    "Although Olin is a very small campus, it is sometimes very tedious having to walk through various curved paths and flights of stairs. We noticed that there was great potential of a zip line from Olin’s Academic Center to West Hall. Initially there were multiple issues that arose. For instance, where will the landing spot be? In the case of our model, we believe it is best if the zip line ends on the corner room in West Hall on the second floor because it gives us the fastest access to most dorms in West Hall. If we were to ask “Which floor in the AC allows us to get faster to our destination?” the answer would be obvious, the 4th floor; but if you zipline at too steep an angle, you are likely to get injured. As a result, we decided to take into consideration the safety of the individual in order to make it a more useful model. Our model asks what the fastest safe zip line starting mount-point would be to get from the AC to West Hall as fast as (safely) possible."
   ]
  },
  {
   "cell_type": "code",
   "execution_count": 2,
   "metadata": {
    "colab": {},
    "colab_type": "code",
    "id": "XcpC9qV2yVLl"
   },
   "outputs": [],
   "source": [
    "# units!\n",
    "year = UNITS.year\n",
    "s = UNITS.second\n",
    "N = UNITS.newton\n",
    "kg = UNITS.kilogram\n",
    "m = UNITS.meter\n",
    "AU = UNITS.astronomical_unit;"
   ]
  },
  {
   "cell_type": "code",
   "execution_count": 3,
   "metadata": {
    "colab": {},
    "colab_type": "code",
    "id": "Nq0vKaw0yVLn"
   },
   "outputs": [],
   "source": [
    "x_0 = (0 * m)\n",
    "y_0 = (0 * m)\n",
    "\n",
    "vx_0 = 0 * m / s\n",
    "vy_0 = 0 * m / s\n",
    "\n",
    "init = State(x=x_0,\n",
    "             y=y_0,\n",
    "             vx=vx_0,\n",
    "             vy=vy_0)"
   ]
  },
  {
   "cell_type": "code",
   "execution_count": 4,
   "metadata": {
    "colab": {},
    "colab_type": "code",
    "id": "2mYVqxxmyVLq"
   },
   "outputs": [],
   "source": [
    "# TODO: make this a params and a make_system()\n",
    "# def make_system(params):\n",
    "#     \"\"\"Make a system object.\n",
    "    \n",
    "#     params: Params object with angle, velocity, x, y,\n",
    "#                diameter, duration, g, mass, rho, and C_d\n",
    "               \n",
    "#     returns: System object\n",
    "#     \"\"\"\n",
    "#     unpack(params)\n",
    "    \n",
    "#     # convert angle to degrees\n",
    "#     theta = np.deg2rad(angle)\n",
    "    \n",
    "#     # compute x and y components of velocity\n",
    "#     vx, vy = pol2cart(theta, velocity)\n",
    "    \n",
    "#     # make the initial state\n",
    "#     init = State(x=x, y=y, vx=vx, vy=vy)\n",
    "    \n",
    "#     # compute area from diameter\n",
    "#     area = np.pi * (diameter/2)**2\n",
    "    \n",
    "#     return System(params, init=init, area=area)\n",
    "\n",
    "\n",
    "system = System(init=init,\n",
    "  G=6.674e-11 * N / kg ** 2 * m ** 2,\n",
    "  m_sun=1.99e30 * kg,\n",
    "  m_human=70 * kg,\n",
    "  grav = Vector(0 * m / s ** 2, -9.81),\n",
    "  rho = 1.275 * kg / m ** 3, \n",
    "  area = 0.7 * m ** 2, \n",
    "  cd = 1.2, # UPDATE THIS \n",
    "  t_end=100e6 * s,\n",
    "  z = Vector(100 * m, -25.1)\n",
    ")"
   ]
  },
  {
   "cell_type": "code",
   "execution_count": null,
   "metadata": {
    "colab": {},
    "colab_type": "code",
    "id": "im99NKd9zS1y"
   },
   "outputs": [],
   "source": []
  },
  {
   "cell_type": "code",
   "execution_count": 5,
   "metadata": {
    "colab": {},
    "colab_type": "code",
    "id": "r1YjIAFXosZD"
   },
   "outputs": [],
   "source": [
    "def earth_grav(m, g):\n",
    "  return g * m"
   ]
  },
  {
   "cell_type": "code",
   "execution_count": 6,
   "metadata": {
    "colab": {
     "base_uri": "https://localhost:8080/",
     "height": 37
    },
    "colab_type": "code",
    "id": "ntH51n1CunMT",
    "outputId": "dc13f397-15dd-4e5b-9850-6252df81f495"
   },
   "outputs": [
    {
     "data": {
      "text/html": [
       "[   0. -981.] kilogram meter/second<sup>2</sup>"
      ],
      "text/latex": [
       "$[   0. -981.] \\frac{kilogram \\cdot meter}{second^{2}}$"
      ],
      "text/plain": [
       "<Quantity([   0. -981.], 'kilogram * meter / second ** 2')>"
      ]
     },
     "execution_count": 6,
     "metadata": {},
     "output_type": "execute_result"
    }
   ],
   "source": [
    "earth_grav(100*kg, system.grav)"
   ]
  },
  {
   "cell_type": "code",
   "execution_count": null,
   "metadata": {
    "colab": {},
    "colab_type": "code",
    "id": "7U1oJPTqt8EC"
   },
   "outputs": [],
   "source": []
  },
  {
   "cell_type": "code",
   "execution_count": 7,
   "metadata": {
    "colab": {},
    "colab_type": "code",
    "id": "i6TUycquqNd4"
   },
   "outputs": [],
   "source": [
    "def drag_force(rho, v, area, cd):\n",
    "  direction= -v.hat()\n",
    "  drag = (1/2) * rho * v.mag**2 *area * cd\n",
    "  return direction * drag"
   ]
  },
  {
   "cell_type": "code",
   "execution_count": 8,
   "metadata": {
    "colab": {
     "base_uri": "https://localhost:8080/",
     "height": 37
    },
    "colab_type": "code",
    "id": "HzMqrMuYrW3c",
    "outputId": "5b54d562-1f45-471f-c500-92afe4e2065e"
   },
   "outputs": [
    {
     "data": {
      "text/html": [
       "[-1200. -1600.] kilogram meter/second<sup>2</sup>"
      ],
      "text/latex": [
       "$[-1200. -1600.] \\frac{kilogram \\cdot meter}{second^{2}}$"
      ],
      "text/plain": [
       "<Quantity([-1200. -1600.], 'kilogram * meter / second ** 2')>"
      ]
     },
     "execution_count": 8,
     "metadata": {},
     "output_type": "execute_result"
    }
   ],
   "source": [
    "drag_force(20 * kg / m ** 3, Vector(3 * m / s, 4), 10 * m ** 2, 0.8)"
   ]
  },
  {
   "cell_type": "code",
   "execution_count": 9,
   "metadata": {
    "colab": {},
    "colab_type": "code",
    "id": "G4ijoX3dyVLt"
   },
   "outputs": [],
   "source": [
    "def effective_force(state, system):\n",
    "  \"\"\"Calculates gravitational force for arbitrary objects\"\"\"\n",
    "  x, y, vx, vy = state\n",
    "  unpack(system)\n",
    "  \n",
    "  grav_f = earth_grav(m_human, grav)\n",
    "  drag_f = drag_force(rho, Vector(vx, vy), area, cd)\n",
    "  \n",
    "  net_force = grav_f + drag_f\n",
    "  \n",
    "  effective_force = net_force.proj(z.hat())\n",
    "\n",
    "  return effective_force"
   ]
  },
  {
   "cell_type": "code",
   "execution_count": 10,
   "metadata": {
    "colab": {
     "base_uri": "https://localhost:8080/",
     "height": 34
    },
    "colab_type": "code",
    "id": "0euiUJCfyVL0",
    "outputId": "fb991386-ff83-4a03-887a-23632a2924c4"
   },
   "outputs": [
    {
     "name": "stdout",
     "output_type": "stream",
     "text": [
      "0.0 meter / second 0.0 meter / second 2.3163759958833534 meter / second ** 2 -0.5814103749667217 meter / second ** 2\n"
     ]
    }
   ],
   "source": [
    "def slope_func(state, t, system):\n",
    "    x, y, vx, vy = state\n",
    "    \n",
    "    unpack(system)\n",
    "    \n",
    "    # make velocity\n",
    "    v = Vector(vx, vy)\n",
    "    \n",
    "    # calculate force\n",
    "    force = effective_force(state, system)\n",
    "    \n",
    "    # calculate acceleration\n",
    "    a = force * (1/m_human)\n",
    "    \n",
    "    # cast acceleration to modsimvector\n",
    "    a = Vector(a[0], a[1])\n",
    "    \n",
    "    # return velocity and acceleration\n",
    "    return vx, vy, a.x, a.y\n",
    "  \n",
    "vx, vy, ax, ay = slope_func(init, 0, system)\n",
    "print(vx, vy, ax, ay)"
   ]
  },
  {
   "cell_type": "code",
   "execution_count": null,
   "metadata": {
    "colab": {},
    "colab_type": "code",
    "id": "yxNvIgrGyVL2"
   },
   "outputs": [],
   "source": []
  },
  {
   "cell_type": "code",
   "execution_count": 11,
   "metadata": {
    "colab": {},
    "colab_type": "code",
    "id": "BDP2V-W97UdW"
   },
   "outputs": [],
   "source": [
    "def event_func(state, t, system):\n",
    "    x, y, vx, vy = state\n",
    "    position = Vector(x, y)\n",
    "    return position.mag - z.mag"
   ]
  },
  {
   "cell_type": "code",
   "execution_count": 12,
   "metadata": {
    "colab": {
     "base_uri": "https://localhost:8080/",
     "height": 34
    },
    "colab_type": "code",
    "id": "oDu_ADwk7bMA",
    "outputId": "0553dbe6-b62f-43c8-8d66-6888c11e88bd"
   },
   "outputs": [
    {
     "data": {
      "text/html": [
       "-103.10193984596022 meter"
      ],
      "text/latex": [
       "$-103.10193984596022 meter$"
      ],
      "text/plain": [
       "<Quantity(-103.10193984596022, 'meter')>"
      ]
     },
     "execution_count": 12,
     "metadata": {},
     "output_type": "execute_result"
    }
   ],
   "source": [
    "event_func(init, 0, system)"
   ]
  },
  {
   "cell_type": "code",
   "execution_count": 13,
   "metadata": {
    "colab": {
     "base_uri": "https://localhost:8080/",
     "height": 396
    },
    "colab_type": "code",
    "id": "0PSP5uH6yVL4",
    "outputId": "29317e43-6c4c-495c-cd39-bfcfce3e9a71"
   },
   "outputs": [
    {
     "data": {
      "image/png": "[encoded data removed]",
      "text/plain": [
       "<Figure size 432x288 with 1 Axes>"
      ]
     },
     "metadata": {},
     "output_type": "display_data"
    }
   ],
   "source": [
    "results, details = run_ode_solver(system, slope_func, events=event_func, method='LSODA')\n",
    "plot(results.x, results.y - z.y.magnitude, 'go-')\n",
    "decorate(title='Zip-lining from AC to West Hall',\n",
    "         xlabel='X Position (m)',\n",
    "         ylabel='Y Position (m)')"
   ]
  },
  {
   "cell_type": "code",
   "execution_count": 14,
   "metadata": {
    "colab": {
     "base_uri": "https://localhost:8080/",
     "height": 396
    },
    "colab_type": "code",
    "id": "X6_Zo2pfH35S",
    "outputId": "c5100dd3-008d-49e5-ea14-90eab0031bd5"
   },
   "outputs": [
    {
     "data": {
      "image/png": "[encoded data removed]",
      "text/plain": [
       "<Figure size 432x288 with 1 Axes>"
      ]
     },
     "metadata": {},
     "output_type": "display_data"
    }
   ],
   "source": [
    "plot(results.y, label='Y position (m)')\n",
    "plot(results.x, label='X position (m)')\n",
    "decorate(title='Position over Time',\n",
    "   xlabel='Time (s)',\n",
    "   ylabel='Position (m)',\n",
    "  legend=True)"
   ]
  },
  {
   "cell_type": "code",
   "execution_count": 15,
   "metadata": {
    "colab": {
     "base_uri": "https://localhost:8080/",
     "height": 34
    },
    "colab_type": "code",
    "id": "ZBi2VbR7yVL_",
    "outputId": "3a74ad01-a797-4d5d-a692-881b32f99fc8"
   },
   "outputs": [
    {
     "name": "stdout",
     "output_type": "stream",
     "text": [
      "15.73897673293782 meter / second\n"
     ]
    }
   ],
   "source": [
    "v_final = Vector(get_last_value(results.vx) * m / s, get_last_value(results.vy))\n",
    "print(v_final.mag)"
   ]
  },
  {
   "cell_type": "code",
   "execution_count": 16,
   "metadata": {
    "colab": {},
    "colab_type": "code",
    "id": "66BtABnAlUsR"
   },
   "outputs": [],
   "source": [
    "def event_func(state, t, system):\n",
    "    x, y, vx, vy = state\n",
    "    position = Vector(x, y)\n",
    "    return position.mag"
   ]
  },
  {
   "cell_type": "code",
   "execution_count": 0,
   "metadata": {
    "colab": {
     "base_uri": "https://localhost:8080/",
     "height": 235
    },
    "colab_type": "code",
    "id": "AwVA_CYZ-O_u",
    "outputId": "e243e222-9c74-40a5-d844-add9f3553793"
   },
   "outputs": [
    {
     "ename": "NameError",
     "evalue": "ignored",
     "output_type": "error",
     "traceback": [
      "\u001b[0;31m---------------------------------------------------------------------------\u001b[0m",
      "\u001b[0;31mNameError\u001b[0m                                 Traceback (most recent call last)",
      "\u001b[0;32m<ipython-input-17-460b3d3a45a1>\u001b[0m in \u001b[0;36m<module>\u001b[0;34m()\u001b[0m\n\u001b[0;32m----> 1\u001b[0;31m \u001b[0mresults\u001b[0m\u001b[0;34m,\u001b[0m \u001b[0mdetails\u001b[0m \u001b[0;34m=\u001b[0m \u001b[0mrun_ode_solver\u001b[0m\u001b[0;34m(\u001b[0m\u001b[0msystem\u001b[0m\u001b[0;34m,\u001b[0m \u001b[0mslope_func\u001b[0m\u001b[0;34m,\u001b[0m \u001b[0mevents\u001b[0m\u001b[0;34m=\u001b[0m\u001b[0mevent_func\u001b[0m\u001b[0;34m,\u001b[0m \u001b[0mmethod\u001b[0m\u001b[0;34m=\u001b[0m\u001b[0;34m'RK23'\u001b[0m\u001b[0;34m)\u001b[0m\u001b[0;34m\u001b[0m\u001b[0;34m\u001b[0m\u001b[0m\n\u001b[0m\u001b[1;32m      2\u001b[0m \u001b[0mresults\u001b[0m\u001b[0;34m.\u001b[0m\u001b[0mindex\u001b[0m \u001b[0;34m/=\u001b[0m \u001b[0;36m60\u001b[0m \u001b[0;34m*\u001b[0m \u001b[0;36m60\u001b[0m \u001b[0;34m*\u001b[0m \u001b[0;36m24\u001b[0m\u001b[0;34m\u001b[0m\u001b[0;34m\u001b[0m\u001b[0m\n\u001b[1;32m      3\u001b[0m \u001b[0;31m# results.r *= (0.000621371 / 1000)\u001b[0m\u001b[0;34m\u001b[0m\u001b[0;34m\u001b[0m\u001b[0;34m\u001b[0m\u001b[0m\n\u001b[1;32m      4\u001b[0m \u001b[0mplot\u001b[0m\u001b[0;34m(\u001b[0m\u001b[0mresults\u001b[0m\u001b[0;34m.\u001b[0m\u001b[0my\u001b[0m\u001b[0;34m,\u001b[0m \u001b[0;34m'go-'\u001b[0m\u001b[0;34m)\u001b[0m\u001b[0;34m\u001b[0m\u001b[0;34m\u001b[0m\u001b[0m\n\u001b[1;32m      5\u001b[0m decorate(title='Earth Orbit',\n",
      "\u001b[0;31mNameError\u001b[0m: name 'system' is not defined"
     ]
    }
   ],
   "source": [
    "results, details = run_ode_solver(system, slope_func, events=event_func, method='RK23')\n",
    "results.index /= 60 * 60 * 24\n",
    "# results.r *= (0.000621371 / 1000)\n",
    "plot(results.y, 'go-')\n",
    "decorate(title='Earth Orbit',\n",
    "         xlabel='Time (days)',\n",
    "         ylabel='Y Position (m)')"
   ]
  },
  {
   "cell_type": "code",
   "execution_count": 0,
   "metadata": {
    "colab": {},
    "colab_type": "code",
    "id": "wNRcyudo-PDq"
   },
   "outputs": [],
   "source": []
  },
  {
   "cell_type": "code",
   "execution_count": 0,
   "metadata": {
    "colab": {},
    "colab_type": "code",
    "id": "uftDQ7GI-PJG"
   },
   "outputs": [],
   "source": []
  },
  {
   "cell_type": "code",
   "execution_count": 0,
   "metadata": {
    "colab": {},
    "colab_type": "code",
    "id": "Z_Xmr95Vn-FW"
   },
   "outputs": [],
   "source": []
  },
  {
   "cell_type": "code",
   "execution_count": 0,
   "metadata": {
    "colab": {},
    "colab_type": "code",
    "id": "yDxFQFHqn-JD"
   },
   "outputs": [],
   "source": []
  },
  {
   "cell_type": "code",
   "execution_count": 0,
   "metadata": {
    "colab": {},
    "colab_type": "code",
    "id": "affGjc8fn-O6"
   },
   "outputs": [],
   "source": []
  },
  {
   "cell_type": "code",
   "execution_count": 0,
   "metadata": {
    "colab": {},
    "colab_type": "code",
    "id": "xMmJI3C3n-SY"
   },
   "outputs": [],
   "source": []
  },
  {
   "cell_type": "code",
   "execution_count": 0,
   "metadata": {
    "colab": {},
    "colab_type": "code",
    "id": "2mAh4FOWn-NA"
   },
   "outputs": [],
   "source": []
  },
  {
   "cell_type": "code",
   "execution_count": 0,
   "metadata": {
    "colab": {},
    "colab_type": "code",
    "id": "l4LgemZu-PRE"
   },
   "outputs": [],
   "source": []
  },
  {
   "cell_type": "code",
   "execution_count": 0,
   "metadata": {
    "colab": {},
    "colab_type": "code",
    "id": "k1o3Wo4A-QNK"
   },
   "outputs": [],
   "source": []
  },
  {
   "cell_type": "code",
   "execution_count": 0,
   "metadata": {
    "colab": {
     "base_uri": "https://localhost:8080/",
     "height": 35
    },
    "colab_type": "code",
    "id": "Ax8EsdFJypUT",
    "outputId": "3c3527ca-241d-47f6-f589-f59759770048"
   },
   "outputs": [
    {
     "name": "stdout",
     "output_type": "stream",
     "text": [
      "Configured for ModSimPy. Restarting kernel.\n"
     ]
    }
   ],
   "source": [
    "# Imports\n",
    "from IPython.display import clear_output\n",
    "import os\n",
    "import time\n",
    "\n",
    "# Install Python libraries\n",
    "!pip3 install pandas seaborn sympy beautifulsoup4 lxml pint scipy==1.1.0 numpy\n",
    "\n",
    "# Removes code before re-downloading it\n",
    "!rm -rf ./ModSimPy\n",
    "!rm -rf ./modsim.py\n",
    "\n",
    "# Grabs ModSimPy\n",
    "!git clone https://github.com/AllenDowney/ModSimPy.git\n",
    "!cp \"ModSimPy/code/modsim.py\" .\n",
    "\n",
    "# Resets kernel to flush outdated libraries (especially SciPy)\n",
    "clear_output()\n",
    "print(\"Configured for ModSimPy. Restarting kernel.\")\n",
    "time.sleep(1)\n",
    "os._exit(0)"
   ]
  },
  {
   "cell_type": "code",
   "execution_count": 0,
   "metadata": {
    "colab": {},
    "colab_type": "code",
    "id": "0zs_2kVjlcpY"
   },
   "outputs": [],
   "source": []
  }
 ],
 "metadata": {
  "colab": {
   "collapsed_sections": [],
   "name": "Project 3.ipynb",
   "provenance": [],
   "version": "0.3.2"
  },
  "kernelspec": {
   "display_name": "Python 3",
   "language": "python",
   "name": "python3"
  },
  "language_info": {
   "codemirror_mode": {
    "name": "ipython",
    "version": 3
   },
   "file_extension": ".py",
   "mimetype": "text/x-python",
   "name": "python",
   "nbconvert_exporter": "python",
   "pygments_lexer": "ipython3",
   "version": "3.6.6"
  }
 },
 "nbformat": 4,
 "nbformat_minor": 1
}
