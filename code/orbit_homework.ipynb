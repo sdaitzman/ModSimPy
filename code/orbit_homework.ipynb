{
  "nbformat": 4,
  "nbformat_minor": 0,
  "metadata": {
    "colab": {
      "name": "orbit_homework.ipynb",
      "version": "0.3.2",
      "provenance": [],
      "collapsed_sections": []
    },
    "kernelspec": {
      "display_name": "Python 3",
      "language": "python",
      "name": "python3"
    }
  },
  "cells": [
    {
      "metadata": {
        "id": "qEb5Fl3ZyVJm",
        "colab_type": "text"
      },
      "cell_type": "markdown",
      "source": [
        "# Modeling and Simulation in Python\n",
        "\n",
        "Chapter 20\n",
        "\n",
        "Copyright 2017 Allen Downey\n",
        "\n",
        "License: [Creative Commons Attribution 4.0 International](https://creativecommons.org/licenses/by/4.0)\n"
      ]
    },
    {
      "metadata": {
        "id": "Y1DkmasdyVJp",
        "colab_type": "code",
        "colab": {}
      },
      "cell_type": "code",
      "source": [
        "# Configure Jupyter so figures appear in the notebook\n",
        "%matplotlib inline\n",
        "\n",
        "# Configure Jupyter to display the assigned value after an assignment\n",
        "%config InteractiveShell.ast_node_interactivity='last_expr'\n",
        "\n",
        "# import functions from the modsim.py module\n",
        "from modsim import *"
      ],
      "execution_count": 0,
      "outputs": []
    },
    {
      "metadata": {
        "id": "YhjKHeXbyVJw",
        "colab_type": "text"
      },
      "cell_type": "markdown",
      "source": [
        "### Dropping pennies\n",
        "\n",
        "I'll start by getting the units we need from Pint."
      ]
    },
    {
      "metadata": {
        "id": "yZvaYdo-yVJy",
        "colab_type": "code",
        "colab": {}
      },
      "cell_type": "code",
      "source": [
        "m = UNITS.meter\n",
        "s = UNITS.second"
      ],
      "execution_count": 0,
      "outputs": []
    },
    {
      "metadata": {
        "id": "G257AdQMyVJ5",
        "colab_type": "text"
      },
      "cell_type": "markdown",
      "source": [
        "And defining the initial state."
      ]
    },
    {
      "metadata": {
        "scrolled": true,
        "id": "NzjWz6nEyVJ6",
        "colab_type": "code",
        "colab": {}
      },
      "cell_type": "code",
      "source": [
        "init = State(y=381 * m, \n",
        "             v=0 * m/s)"
      ],
      "execution_count": 0,
      "outputs": []
    },
    {
      "metadata": {
        "id": "VJJ7M7ChyVJ_",
        "colab_type": "text"
      },
      "cell_type": "markdown",
      "source": [
        "Acceleration due to gravity is about 9.8 m / s$^2$."
      ]
    },
    {
      "metadata": {
        "id": "BNeJIDtRyVKB",
        "colab_type": "code",
        "colab": {}
      },
      "cell_type": "code",
      "source": [
        "g = 9.8 * m/s**2"
      ],
      "execution_count": 0,
      "outputs": []
    },
    {
      "metadata": {
        "id": "1Z01dyaUyVKF",
        "colab_type": "text"
      },
      "cell_type": "markdown",
      "source": [
        "When we call `odeint`, we need an array of timestamps where we want to compute the solution.\n",
        "\n",
        "I'll start with a duration of 10 seconds."
      ]
    },
    {
      "metadata": {
        "id": "o5DYstWPyVKG",
        "colab_type": "code",
        "colab": {}
      },
      "cell_type": "code",
      "source": [
        "t_end = 10 * s"
      ],
      "execution_count": 0,
      "outputs": []
    },
    {
      "metadata": {
        "id": "Qzcm9FvnyVKL",
        "colab_type": "text"
      },
      "cell_type": "markdown",
      "source": [
        "Now we make a `System` object."
      ]
    },
    {
      "metadata": {
        "id": "pOd97xheyVKM",
        "colab_type": "code",
        "colab": {}
      },
      "cell_type": "code",
      "source": [
        "system = System(init=init, g=g, t_end=t_end)"
      ],
      "execution_count": 0,
      "outputs": []
    },
    {
      "metadata": {
        "id": "6OgQg4whyVKR",
        "colab_type": "text"
      },
      "cell_type": "markdown",
      "source": [
        "And define the slope function."
      ]
    },
    {
      "metadata": {
        "id": "xV5pPoFwyVKS",
        "colab_type": "code",
        "colab": {}
      },
      "cell_type": "code",
      "source": [
        "def slope_func(state, t, system):\n",
        "    \"\"\"Compute derivatives of the state.\n",
        "    \n",
        "    state: position, velocity\n",
        "    t: time\n",
        "    system: System object containing `g`\n",
        "    \n",
        "    returns: derivatives of y and vw\n",
        "    \"\"\"\n",
        "    y, v = state\n",
        "    unpack(system)    \n",
        "\n",
        "    dydt = v\n",
        "    dvdt = -g\n",
        "    \n",
        "    return dydt, dvdt"
      ],
      "execution_count": 0,
      "outputs": []
    },
    {
      "metadata": {
        "id": "SML_yjleyVKV",
        "colab_type": "text"
      },
      "cell_type": "markdown",
      "source": [
        "It's always a good idea to test the slope function with the initial conditions."
      ]
    },
    {
      "metadata": {
        "id": "h_2rqVXZyVKV",
        "colab_type": "code",
        "colab": {}
      },
      "cell_type": "code",
      "source": [
        "dydt, dvdt = slope_func(init, 0, system)\n",
        "print(dydt)\n",
        "print(dvdt)"
      ],
      "execution_count": 0,
      "outputs": []
    },
    {
      "metadata": {
        "id": "OAEFeuz8yVKb",
        "colab_type": "text"
      },
      "cell_type": "markdown",
      "source": [
        "Now we're ready to call `run_ode_solver`"
      ]
    },
    {
      "metadata": {
        "id": "m-vjelT6yVKb",
        "colab_type": "code",
        "colab": {}
      },
      "cell_type": "code",
      "source": [
        "results, details = run_ode_solver(system, slope_func, max_step=0.5*s)\n",
        "details.message"
      ],
      "execution_count": 0,
      "outputs": []
    },
    {
      "metadata": {
        "id": "97cTwQ9jyVKi",
        "colab_type": "text"
      },
      "cell_type": "markdown",
      "source": [
        "Here are the results:"
      ]
    },
    {
      "metadata": {
        "id": "LeO7a_65yVKi",
        "colab_type": "code",
        "outputId": "90da9df0-9126-4aba-8cd4-3b12b6dba298",
        "colab": {
          "base_uri": "https://localhost:8080/",
          "height": 824
        }
      },
      "cell_type": "code",
      "source": [
        "results"
      ],
      "execution_count": 43,
      "outputs": [
        {
          "output_type": "execute_result",
          "data": {
            "text/html": [
              "<div>\n",
              "<style scoped>\n",
              "    .dataframe tbody tr th:only-of-type {\n",
              "        vertical-align: middle;\n",
              "    }\n",
              "\n",
              "    .dataframe tbody tr th {\n",
              "        vertical-align: top;\n",
              "    }\n",
              "\n",
              "    .dataframe thead th {\n",
              "        text-align: right;\n",
              "    }\n",
              "</style>\n",
              "<table border=\"1\" class=\"dataframe\">\n",
              "  <thead>\n",
              "    <tr style=\"text-align: right;\">\n",
              "      <th></th>\n",
              "      <th>y</th>\n",
              "      <th>v</th>\n",
              "    </tr>\n",
              "  </thead>\n",
              "  <tbody>\n",
              "    <tr>\n",
              "      <th>0.000000</th>\n",
              "      <td>381.000000</td>\n",
              "      <td>0.000000</td>\n",
              "    </tr>\n",
              "    <tr>\n",
              "      <th>0.000102</th>\n",
              "      <td>381.000000</td>\n",
              "      <td>-0.001000</td>\n",
              "    </tr>\n",
              "    <tr>\n",
              "      <th>0.001122</th>\n",
              "      <td>380.999994</td>\n",
              "      <td>-0.011000</td>\n",
              "    </tr>\n",
              "    <tr>\n",
              "      <th>0.011327</th>\n",
              "      <td>380.999371</td>\n",
              "      <td>-0.111000</td>\n",
              "    </tr>\n",
              "    <tr>\n",
              "      <th>0.113367</th>\n",
              "      <td>380.937025</td>\n",
              "      <td>-1.110997</td>\n",
              "    </tr>\n",
              "    <tr>\n",
              "      <th>0.613367</th>\n",
              "      <td>379.156526</td>\n",
              "      <td>-6.010997</td>\n",
              "    </tr>\n",
              "    <tr>\n",
              "      <th>1.113367</th>\n",
              "      <td>374.926028</td>\n",
              "      <td>-10.910997</td>\n",
              "    </tr>\n",
              "    <tr>\n",
              "      <th>1.613367</th>\n",
              "      <td>368.245529</td>\n",
              "      <td>-15.810997</td>\n",
              "    </tr>\n",
              "    <tr>\n",
              "      <th>2.113367</th>\n",
              "      <td>359.115031</td>\n",
              "      <td>-20.710997</td>\n",
              "    </tr>\n",
              "    <tr>\n",
              "      <th>2.613367</th>\n",
              "      <td>347.534532</td>\n",
              "      <td>-25.610997</td>\n",
              "    </tr>\n",
              "    <tr>\n",
              "      <th>3.113367</th>\n",
              "      <td>333.504034</td>\n",
              "      <td>-30.510997</td>\n",
              "    </tr>\n",
              "    <tr>\n",
              "      <th>3.613367</th>\n",
              "      <td>317.023535</td>\n",
              "      <td>-35.410997</td>\n",
              "    </tr>\n",
              "    <tr>\n",
              "      <th>4.113367</th>\n",
              "      <td>298.093036</td>\n",
              "      <td>-40.310997</td>\n",
              "    </tr>\n",
              "    <tr>\n",
              "      <th>4.613367</th>\n",
              "      <td>276.712538</td>\n",
              "      <td>-45.210997</td>\n",
              "    </tr>\n",
              "    <tr>\n",
              "      <th>5.113367</th>\n",
              "      <td>252.882039</td>\n",
              "      <td>-50.110997</td>\n",
              "    </tr>\n",
              "    <tr>\n",
              "      <th>5.613367</th>\n",
              "      <td>226.601541</td>\n",
              "      <td>-55.010997</td>\n",
              "    </tr>\n",
              "    <tr>\n",
              "      <th>6.113367</th>\n",
              "      <td>197.871042</td>\n",
              "      <td>-59.910997</td>\n",
              "    </tr>\n",
              "    <tr>\n",
              "      <th>6.613367</th>\n",
              "      <td>166.690544</td>\n",
              "      <td>-64.810997</td>\n",
              "    </tr>\n",
              "    <tr>\n",
              "      <th>7.113367</th>\n",
              "      <td>133.060045</td>\n",
              "      <td>-69.710997</td>\n",
              "    </tr>\n",
              "    <tr>\n",
              "      <th>7.613367</th>\n",
              "      <td>96.979547</td>\n",
              "      <td>-74.610997</td>\n",
              "    </tr>\n",
              "    <tr>\n",
              "      <th>8.113367</th>\n",
              "      <td>58.449048</td>\n",
              "      <td>-79.510997</td>\n",
              "    </tr>\n",
              "    <tr>\n",
              "      <th>8.613367</th>\n",
              "      <td>17.468550</td>\n",
              "      <td>-84.410997</td>\n",
              "    </tr>\n",
              "    <tr>\n",
              "      <th>9.113367</th>\n",
              "      <td>-25.961949</td>\n",
              "      <td>-89.310997</td>\n",
              "    </tr>\n",
              "    <tr>\n",
              "      <th>9.613367</th>\n",
              "      <td>-71.842448</td>\n",
              "      <td>-94.210997</td>\n",
              "    </tr>\n",
              "    <tr>\n",
              "      <th>10.000000</th>\n",
              "      <td>-109.000000</td>\n",
              "      <td>-98.000000</td>\n",
              "    </tr>\n",
              "  </tbody>\n",
              "</table>\n",
              "</div>"
            ],
            "text/plain": [
              "                    y          v\n",
              "0.000000   381.000000   0.000000\n",
              "0.000102   381.000000  -0.001000\n",
              "0.001122   380.999994  -0.011000\n",
              "0.011327   380.999371  -0.111000\n",
              "0.113367   380.937025  -1.110997\n",
              "0.613367   379.156526  -6.010997\n",
              "1.113367   374.926028 -10.910997\n",
              "1.613367   368.245529 -15.810997\n",
              "2.113367   359.115031 -20.710997\n",
              "2.613367   347.534532 -25.610997\n",
              "3.113367   333.504034 -30.510997\n",
              "3.613367   317.023535 -35.410997\n",
              "4.113367   298.093036 -40.310997\n",
              "4.613367   276.712538 -45.210997\n",
              "5.113367   252.882039 -50.110997\n",
              "5.613367   226.601541 -55.010997\n",
              "6.113367   197.871042 -59.910997\n",
              "6.613367   166.690544 -64.810997\n",
              "7.113367   133.060045 -69.710997\n",
              "7.613367    96.979547 -74.610997\n",
              "8.113367    58.449048 -79.510997\n",
              "8.613367    17.468550 -84.410997\n",
              "9.113367   -25.961949 -89.310997\n",
              "9.613367   -71.842448 -94.210997\n",
              "10.000000 -109.000000 -98.000000"
            ]
          },
          "metadata": {
            "tags": []
          },
          "execution_count": 43
        }
      ]
    },
    {
      "metadata": {
        "id": "H_aflXa3yVKn",
        "colab_type": "text"
      },
      "cell_type": "markdown",
      "source": [
        "And here's position as a function of time:"
      ]
    },
    {
      "metadata": {
        "id": "mWM2oxpmyVKn",
        "colab_type": "code",
        "outputId": "28aaa7a3-4b60-470d-ec21-d991be4e09c4",
        "colab": {
          "base_uri": "https://localhost:8080/",
          "height": 297
        }
      },
      "cell_type": "code",
      "source": [
        "def plot_position(results):\n",
        "    plot(results.y, label='y')\n",
        "    decorate(xlabel='Time (s)',\n",
        "             ylabel='Position (m)')\n",
        "\n",
        "plot_position(results)"
      ],
      "execution_count": 44,
      "outputs": [
        {
          "output_type": "display_data",
          "data": {
            "image/png": "[encoded data removed]",
            "text/plain": [
              "<matplotlib.figure.Figure at 0x7f3bced63d68>"
            ]
          },
          "metadata": {
            "tags": []
          }
        }
      ]
    },
    {
      "metadata": {
        "id": "5K127O8QyVKq",
        "colab_type": "text"
      },
      "cell_type": "markdown",
      "source": [
        "### Onto the sidewalk\n",
        "\n",
        "To figure out when the penny hit the sidewalk, we can use `crossings`, which finds the times where a `Series` passes through a given value."
      ]
    },
    {
      "metadata": {
        "id": "3OpJfvXIyVKq",
        "colab_type": "code",
        "colab": {}
      },
      "cell_type": "code",
      "source": [
        "t_crossings = crossings(results.y, 0)"
      ],
      "execution_count": 0,
      "outputs": []
    },
    {
      "metadata": {
        "id": "XlZefw2hyVKt",
        "colab_type": "text"
      },
      "cell_type": "markdown",
      "source": [
        "For this example there should be just one crossing, the time when the penny hits the sidewalk."
      ]
    },
    {
      "metadata": {
        "id": "_jIUWRMOyVKv",
        "colab_type": "code",
        "colab": {}
      },
      "cell_type": "code",
      "source": [
        "t_sidewalk = t_crossings[0] * s"
      ],
      "execution_count": 0,
      "outputs": []
    },
    {
      "metadata": {
        "id": "9e9QxB2DyVKy",
        "colab_type": "text"
      },
      "cell_type": "markdown",
      "source": [
        "We can compare that to the exact result.  Without air resistance, we have\n",
        "\n",
        "$v = -g t$\n",
        "\n",
        "and\n",
        "\n",
        "$y = 381 - g t^2 / 2$\n",
        "\n",
        "Setting $y=0$ and solving for $t$ yields\n",
        "\n",
        "$t = \\sqrt{\\frac{2 y_{init}}{g}}$"
      ]
    },
    {
      "metadata": {
        "id": "4H69FUJuyVKz",
        "colab_type": "code",
        "outputId": "3f3f99e4-f18e-41fe-abf7-4199fc90ce44",
        "colab": {
          "base_uri": "https://localhost:8080/",
          "height": 34
        }
      },
      "cell_type": "code",
      "source": [
        "sqrt(2 * init.y / g)"
      ],
      "execution_count": 47,
      "outputs": [
        {
          "output_type": "execute_result",
          "data": {
            "text/latex": "$8.817885349720552\\ \\mathrm{second}$",
            "text/html": [
              "8.817885349720552 second"
            ],
            "text/plain": [
              "<Quantity(8.817885349720552, 'second')>"
            ]
          },
          "metadata": {
            "tags": []
          },
          "execution_count": 47
        }
      ]
    },
    {
      "metadata": {
        "id": "S--2VoU7yVK4",
        "colab_type": "text"
      },
      "cell_type": "markdown",
      "source": [
        "The estimate is accurate to about 10 decimal places."
      ]
    },
    {
      "metadata": {
        "id": "r4gst6_oyVK5",
        "colab_type": "text"
      },
      "cell_type": "markdown",
      "source": [
        "## Events\n",
        "\n",
        "Instead of running the simulation until the penny goes through the sidewalk, it would be better to detect the point where the penny hits the sidewalk and stop.  `run_ode_solver` provides exactly the tool we need, **event functions**.\n",
        "\n",
        "Here's an event function that returns the height of the penny above the sidewalk:"
      ]
    },
    {
      "metadata": {
        "id": "iH2eYoI1yVK6",
        "colab_type": "code",
        "colab": {}
      },
      "cell_type": "code",
      "source": [
        "def event_func(state, t, system):\n",
        "    \"\"\"Return the height of the penny above the sidewalk.\n",
        "    \"\"\"\n",
        "    y, v = state\n",
        "    return y"
      ],
      "execution_count": 0,
      "outputs": []
    },
    {
      "metadata": {
        "id": "RUU8C4koyVK8",
        "colab_type": "text"
      },
      "cell_type": "markdown",
      "source": [
        "And here's how we pass it to `run_ode_solver`.  The solver should run until the event function returns 0, and then terminate."
      ]
    },
    {
      "metadata": {
        "id": "sZcqDq-NyVK-",
        "colab_type": "code",
        "outputId": "41ddce9c-82a0-4e9f-bc3f-c52ea16f1d92",
        "colab": {
          "base_uri": "https://localhost:8080/",
          "height": 297
        }
      },
      "cell_type": "code",
      "source": [
        "results, details = run_ode_solver(system, slope_func, events=event_func)\n",
        "details"
      ],
      "execution_count": 49,
      "outputs": [
        {
          "output_type": "execute_result",
          "data": {
            "text/html": [
              "<div>\n",
              "<style scoped>\n",
              "    .dataframe tbody tr th:only-of-type {\n",
              "        vertical-align: middle;\n",
              "    }\n",
              "\n",
              "    .dataframe tbody tr th {\n",
              "        vertical-align: top;\n",
              "    }\n",
              "\n",
              "    .dataframe thead th {\n",
              "        text-align: right;\n",
              "    }\n",
              "</style>\n",
              "<table border=\"1\" class=\"dataframe\">\n",
              "  <thead>\n",
              "    <tr style=\"text-align: right;\">\n",
              "      <th></th>\n",
              "      <th>values</th>\n",
              "    </tr>\n",
              "  </thead>\n",
              "  <tbody>\n",
              "    <tr>\n",
              "      <th>message</th>\n",
              "      <td>A termination event occurred.</td>\n",
              "    </tr>\n",
              "    <tr>\n",
              "      <th>nfev</th>\n",
              "      <td>38</td>\n",
              "    </tr>\n",
              "    <tr>\n",
              "      <th>njev</th>\n",
              "      <td>0</td>\n",
              "    </tr>\n",
              "    <tr>\n",
              "      <th>nlu</th>\n",
              "      <td>0</td>\n",
              "    </tr>\n",
              "    <tr>\n",
              "      <th>sol</th>\n",
              "      <td>None</td>\n",
              "    </tr>\n",
              "    <tr>\n",
              "      <th>status</th>\n",
              "      <td>1</td>\n",
              "    </tr>\n",
              "    <tr>\n",
              "      <th>success</th>\n",
              "      <td>True</td>\n",
              "    </tr>\n",
              "    <tr>\n",
              "      <th>t_events</th>\n",
              "      <td>[[8.817885349720553]]</td>\n",
              "    </tr>\n",
              "  </tbody>\n",
              "</table>\n",
              "</div>"
            ],
            "text/plain": [
              "message     A termination event occurred.\n",
              "nfev                                   38\n",
              "njev                                    0\n",
              "nlu                                     0\n",
              "sol                                  None\n",
              "status                                  1\n",
              "success                              True\n",
              "t_events            [[8.817885349720553]]\n",
              "dtype: object"
            ]
          },
          "metadata": {
            "tags": []
          },
          "execution_count": 49
        }
      ]
    },
    {
      "metadata": {
        "id": "AM0k7t-7yVLA",
        "colab_type": "text"
      },
      "cell_type": "markdown",
      "source": [
        "The message from the solver indicates the solver stopped because the event we wanted to detect happened.\n",
        "\n",
        "Here are the results:"
      ]
    },
    {
      "metadata": {
        "id": "o9Y5FnMfyVLC",
        "colab_type": "code",
        "outputId": "7f517f94-2b68-4df5-851b-289c5e007247",
        "colab": {
          "base_uri": "https://localhost:8080/",
          "height": 266
        }
      },
      "cell_type": "code",
      "source": [
        "results"
      ],
      "execution_count": 50,
      "outputs": [
        {
          "output_type": "execute_result",
          "data": {
            "text/html": [
              "<div>\n",
              "<style scoped>\n",
              "    .dataframe tbody tr th:only-of-type {\n",
              "        vertical-align: middle;\n",
              "    }\n",
              "\n",
              "    .dataframe tbody tr th {\n",
              "        vertical-align: top;\n",
              "    }\n",
              "\n",
              "    .dataframe thead th {\n",
              "        text-align: right;\n",
              "    }\n",
              "</style>\n",
              "<table border=\"1\" class=\"dataframe\">\n",
              "  <thead>\n",
              "    <tr style=\"text-align: right;\">\n",
              "      <th></th>\n",
              "      <th>y</th>\n",
              "      <th>v</th>\n",
              "    </tr>\n",
              "  </thead>\n",
              "  <tbody>\n",
              "    <tr>\n",
              "      <th>0.000000</th>\n",
              "      <td>381.000000</td>\n",
              "      <td>0.000000</td>\n",
              "    </tr>\n",
              "    <tr>\n",
              "      <th>0.000102</th>\n",
              "      <td>381.000000</td>\n",
              "      <td>-0.001000</td>\n",
              "    </tr>\n",
              "    <tr>\n",
              "      <th>0.001122</th>\n",
              "      <td>380.999994</td>\n",
              "      <td>-0.011000</td>\n",
              "    </tr>\n",
              "    <tr>\n",
              "      <th>0.011327</th>\n",
              "      <td>380.999371</td>\n",
              "      <td>-0.111000</td>\n",
              "    </tr>\n",
              "    <tr>\n",
              "      <th>0.113367</th>\n",
              "      <td>380.937025</td>\n",
              "      <td>-1.110997</td>\n",
              "    </tr>\n",
              "    <tr>\n",
              "      <th>1.133773</th>\n",
              "      <td>374.701343</td>\n",
              "      <td>-11.110971</td>\n",
              "    </tr>\n",
              "    <tr>\n",
              "      <th>8.817885</th>\n",
              "      <td>0.000000</td>\n",
              "      <td>-86.415276</td>\n",
              "    </tr>\n",
              "  </tbody>\n",
              "</table>\n",
              "</div>"
            ],
            "text/plain": [
              "                   y          v\n",
              "0.000000  381.000000   0.000000\n",
              "0.000102  381.000000  -0.001000\n",
              "0.001122  380.999994  -0.011000\n",
              "0.011327  380.999371  -0.111000\n",
              "0.113367  380.937025  -1.110997\n",
              "1.133773  374.701343 -11.110971\n",
              "8.817885    0.000000 -86.415276"
            ]
          },
          "metadata": {
            "tags": []
          },
          "execution_count": 50
        }
      ]
    },
    {
      "metadata": {
        "id": "CHxr2EqSyVLG",
        "colab_type": "text"
      },
      "cell_type": "markdown",
      "source": [
        "With the `events` option, the solver returns the actual time steps it computed, which are not necessarily equally spaced. \n",
        "\n",
        "The last time step is when the event occurred:"
      ]
    },
    {
      "metadata": {
        "id": "ttIZzpjPyVLH",
        "colab_type": "code",
        "colab": {}
      },
      "cell_type": "code",
      "source": [
        "t_sidewalk = get_last_label(results) * s"
      ],
      "execution_count": 0,
      "outputs": []
    },
    {
      "metadata": {
        "id": "gmVFDsVTyVLK",
        "colab_type": "text"
      },
      "cell_type": "markdown",
      "source": [
        "Unfortunately, `run_ode_solver` does not carry the units through the computation, so we have to put them back at the end.\n",
        "\n",
        "We could also get the time of the event from `details`, but it's a minor nuisance because it comes packed in an array:"
      ]
    },
    {
      "metadata": {
        "id": "Joo1jSYLyVLL",
        "colab_type": "code",
        "outputId": "7ed99de8-9300-4617-b4e0-c75de47fae45",
        "colab": {
          "base_uri": "https://localhost:8080/",
          "height": 34
        }
      },
      "cell_type": "code",
      "source": [
        "details.t_events[0][0] * s"
      ],
      "execution_count": 52,
      "outputs": [
        {
          "output_type": "execute_result",
          "data": {
            "text/latex": "$8.817885349720553\\ \\mathrm{second}$",
            "text/html": [
              "8.817885349720553 second"
            ],
            "text/plain": [
              "<Quantity(8.817885349720553, 'second')>"
            ]
          },
          "metadata": {
            "tags": []
          },
          "execution_count": 52
        }
      ]
    },
    {
      "metadata": {
        "id": "5To9p3EiyVLQ",
        "colab_type": "text"
      },
      "cell_type": "markdown",
      "source": [
        "The result is accurate to about 15 decimal places.\n",
        "\n",
        "We can also check the velocity of the penny when it hits the sidewalk:"
      ]
    },
    {
      "metadata": {
        "id": "se6TYeCUyVLR",
        "colab_type": "code",
        "colab": {}
      },
      "cell_type": "code",
      "source": [
        "v_sidewalk = get_last_value(results.v) * m / s"
      ],
      "execution_count": 0,
      "outputs": []
    },
    {
      "metadata": {
        "id": "iAgE4Gj9yVLU",
        "colab_type": "text"
      },
      "cell_type": "markdown",
      "source": [
        "And convert to kilometers per hour."
      ]
    },
    {
      "metadata": {
        "id": "3SASlJsryVLV",
        "colab_type": "code",
        "outputId": "fcc90d50-6e6a-4e7b-ec79-537c7b52e1f7",
        "colab": {
          "base_uri": "https://localhost:8080/",
          "height": 34
        }
      },
      "cell_type": "code",
      "source": [
        "km = UNITS.kilometer\n",
        "h = UNITS.hour\n",
        "v_sidewalk.to(km / h)"
      ],
      "execution_count": 54,
      "outputs": [
        {
          "output_type": "execute_result",
          "data": {
            "text/latex": "$-311.09499513814114\\ \\frac{\\mathrm{kilometer}}{\\mathrm{hour}}$",
            "text/html": [
              "-311.09499513814114 kilometer/hour"
            ],
            "text/plain": [
              "<Quantity(-311.09499513814114, 'kilometer / hour')>"
            ]
          },
          "metadata": {
            "tags": []
          },
          "execution_count": 54
        }
      ]
    },
    {
      "metadata": {
        "id": "BuHAdPo2yVLc",
        "colab_type": "text"
      },
      "cell_type": "markdown",
      "source": [
        "If there were no air resistance, the penny would hit the sidewalk (or someone's head) at more than 300 km/h.\n",
        "\n",
        "So it's a good thing there is air resistance."
      ]
    },
    {
      "metadata": {
        "id": "zf50bYqKyVLd",
        "colab_type": "text"
      },
      "cell_type": "markdown",
      "source": [
        "## Under the hood\n",
        "\n",
        "Here is the source code for `crossings` so you can see what's happening under the hood:"
      ]
    },
    {
      "metadata": {
        "id": "egybRvtSyVLe",
        "colab_type": "code",
        "colab": {}
      },
      "cell_type": "code",
      "source": [
        "%psource crossings"
      ],
      "execution_count": 0,
      "outputs": []
    },
    {
      "metadata": {
        "id": "pWHmHZADyVLi",
        "colab_type": "text"
      },
      "cell_type": "markdown",
      "source": [
        "The [documentation of InterpolatedUnivariateSpline is here](https://docs.scipy.org/doc/scipy/reference/generated/scipy.interpolate.InterpolatedUnivariateSpline.html).\n",
        "\n",
        "And you can read the [documentation of `scipy.integrate.solve_ivp`](https://docs.scipy.org/doc/scipy/reference/generated/scipy.integrate.solve_ivp.html) to learn more about how `run_ode_solver` works."
      ]
    },
    {
      "metadata": {
        "id": "EBbygIvbyVLj",
        "colab_type": "text"
      },
      "cell_type": "markdown",
      "source": [
        "### Exercises\n",
        "\n",
        "**Exercise:** Here's a question from the web site [Ask an Astronomer](http://curious.astro.cornell.edu/about-us/39-our-solar-system/the-earth/other-catastrophes/57-how-long-would-it-take-the-earth-to-fall-into-the-sun-intermediate):\n",
        "\n",
        "\"If the Earth suddenly stopped orbiting the Sun, I know eventually it would be pulled in by the Sun's gravity and hit it. How long would it take the Earth to hit the Sun? I imagine it would go slowly at first and then pick up speed.\"\n",
        "\n",
        "Use `run_ode_solver` to answer this question.\n",
        "\n",
        "Here are some suggestions about how to proceed:\n",
        "\n",
        "1.  Look up the Law of Universal Gravitation and any constants you need.  I suggest you work entirely in SI units: meters, kilograms, and Newtons.\n",
        "\n",
        "2.  When the distance between the Earth and the Sun gets small, this system behaves badly, so you should use an event function to stop when the surface of Earth reaches the surface of the Sun.\n",
        "\n",
        "3. Express your answer in days, and plot the results as millions of kilometers versus days.\n",
        "\n",
        "If you read the reply by Dave Rothstein, you will see other ways to solve the problem, and a good discussion of the modeling decisions behind them.\n",
        "\n",
        "\n",
        "You might also be interested to know that [it's actually not that easy to get to the Sun](https://www.theatlantic.com/science/archive/2018/08/parker-solar-probe-launch-nasa/567197/)."
      ]
    },
    {
      "metadata": {
        "id": "XcpC9qV2yVLl",
        "colab_type": "code",
        "colab": {}
      },
      "cell_type": "code",
      "source": [
        "# units!\n",
        "N = UNITS.newton\n",
        "kg = UNITS.kilogram\n",
        "m = UNITS.meter\n",
        "AU = UNITS.astronomical_unit;"
      ],
      "execution_count": 0,
      "outputs": []
    },
    {
      "metadata": {
        "id": "Nq0vKaw0yVLn",
        "colab_type": "code",
        "colab": {}
      },
      "cell_type": "code",
      "source": [
        "x_0 = (0 * AU).to_base_units()\n",
        "y_0 = (1 * AU).to_base_units()\n",
        "\n",
        "vx_0 = 0 * m / s\n",
        "vy_0 = 0 * m / s\n",
        "\n",
        "init = State(x=x_0,\n",
        "             y=y_0,\n",
        "             vx=vx_0,\n",
        "            vy=vy_0)"
      ],
      "execution_count": 0,
      "outputs": []
    },
    {
      "metadata": {
        "id": "2mYVqxxmyVLq",
        "colab_type": "code",
        "colab": {}
      },
      "cell_type": "code",
      "source": [
        "system = System(init=init,\n",
        "                G=6.674e-11 * N / kg ** 2 * m ** 2,\n",
        "                m_sun=1.99e30 * kg,\n",
        "                m_earth=5.972e24 * kg,\n",
        "                t_end=100e6 * s,\n",
        "                r_final=695.508e6 * m + 6.371e6 * m)"
      ],
      "execution_count": 0,
      "outputs": []
    },
    {
      "metadata": {
        "id": "G4ijoX3dyVLt",
        "colab_type": "code",
        "colab": {}
      },
      "cell_type": "code",
      "source": [
        "def universal_grav(state, system):\n",
        "  \"\"\"Calculates gravitational force for arbitrary objects\"\"\"\n",
        "  x, y, vx, vy = state\n",
        "  unpack(system)\n",
        "  \n",
        "  position = Vector(x, y)\n",
        "  \n",
        "  mag = G * m_sun * m_earth / position.mag ** 2\n",
        "  direction = -position.hat()\n",
        "  \n",
        "  force = direction * mag\n",
        "  \n",
        "  \n",
        "  return force\n",
        "  "
      ],
      "execution_count": 0,
      "outputs": []
    },
    {
      "metadata": {
        "id": "0euiUJCfyVL0",
        "colab_type": "code",
        "colab": {}
      },
      "cell_type": "code",
      "source": [
        "def slope_func(state, t, system):\n",
        "  x, y, vx, vy = state\n",
        "  unpack(system)\n",
        "  \n",
        "  v = Vector(vx, vy)\n",
        "  force = universal_grav(state, system)\n",
        "  a = force / m_earth\n",
        "  \n",
        "#   dxdt = v\n",
        "#   dvydt = -force / m_earth\n",
        "  \n",
        "  \n",
        "  return vx, vy, a.x, a.y"
      ],
      "execution_count": 0,
      "outputs": []
    },
    {
      "metadata": {
        "id": "yxNvIgrGyVL2",
        "colab_type": "code",
        "colab": {}
      },
      "cell_type": "code",
      "source": [
        "vx, vy, ax, ay = slope_func(init, 0, system)"
      ],
      "execution_count": 0,
      "outputs": []
    },
    {
      "metadata": {
        "id": "BDP2V-W97UdW",
        "colab_type": "code",
        "colab": {}
      },
      "cell_type": "code",
      "source": [
        "def event_func(state, t, system):\n",
        "  print(state)\n",
        "  x, y, vx, vy = state\n",
        "  return r - system.r_final"
      ],
      "execution_count": 0,
      "outputs": []
    },
    {
      "metadata": {
        "id": "oDu_ADwk7bMA",
        "colab_type": "code",
        "outputId": "708f4205-baa3-42d5-b2f1-71f5aa3aa126",
        "colab": {
          "base_uri": "https://localhost:8080/",
          "height": 333
        }
      },
      "cell_type": "code",
      "source": [
        "event_func(init, 0, system)"
      ],
      "execution_count": 66,
      "outputs": [
        {
          "output_type": "stream",
          "text": [
            "x                0.0 meter\n",
            "y     149597870691.0 meter\n",
            "vx      0.0 meter / second\n",
            "vy      0.0 meter / second\n",
            "dtype: object\n"
          ],
          "name": "stdout"
        },
        {
          "output_type": "error",
          "ename": "NameError",
          "evalue": "ignored",
          "traceback": [
            "\u001b[0;31m---------------------------------------------------------------------------\u001b[0m",
            "\u001b[0;31mNameError\u001b[0m                                 Traceback (most recent call last)",
            "\u001b[0;32m<ipython-input-66-148f13681e98>\u001b[0m in \u001b[0;36m<module>\u001b[0;34m()\u001b[0m\n\u001b[0;32m----> 1\u001b[0;31m \u001b[0mevent_func\u001b[0m\u001b[0;34m(\u001b[0m\u001b[0minit\u001b[0m\u001b[0;34m,\u001b[0m \u001b[0;36m0\u001b[0m\u001b[0;34m,\u001b[0m \u001b[0msystem\u001b[0m\u001b[0;34m)\u001b[0m\u001b[0;34m\u001b[0m\u001b[0;34m\u001b[0m\u001b[0m\n\u001b[0m",
            "\u001b[0;32m<ipython-input-62-04b5f2e66177>\u001b[0m in \u001b[0;36mevent_func\u001b[0;34m(state, t, system)\u001b[0m\n\u001b[1;32m      2\u001b[0m   \u001b[0mprint\u001b[0m\u001b[0;34m(\u001b[0m\u001b[0mstate\u001b[0m\u001b[0;34m)\u001b[0m\u001b[0;34m\u001b[0m\u001b[0;34m\u001b[0m\u001b[0m\n\u001b[1;32m      3\u001b[0m   \u001b[0mx\u001b[0m\u001b[0;34m,\u001b[0m \u001b[0my\u001b[0m\u001b[0;34m,\u001b[0m \u001b[0mvx\u001b[0m\u001b[0;34m,\u001b[0m \u001b[0mvy\u001b[0m \u001b[0;34m=\u001b[0m \u001b[0mstate\u001b[0m\u001b[0;34m\u001b[0m\u001b[0;34m\u001b[0m\u001b[0m\n\u001b[0;32m----> 4\u001b[0;31m   \u001b[0;32mreturn\u001b[0m \u001b[0mr\u001b[0m \u001b[0;34m-\u001b[0m \u001b[0msystem\u001b[0m\u001b[0;34m.\u001b[0m\u001b[0mr_final\u001b[0m\u001b[0;34m\u001b[0m\u001b[0;34m\u001b[0m\u001b[0m\n\u001b[0m",
            "\u001b[0;31mNameError\u001b[0m: name 'r' is not defined"
          ]
        }
      ]
    },
    {
      "metadata": {
        "id": "0PSP5uH6yVL4",
        "colab_type": "code",
        "outputId": "2f274108-86fd-4d0f-db33-9fcd9a1879fd",
        "colab": {
          "base_uri": "https://localhost:8080/",
          "height": 331
        }
      },
      "cell_type": "code",
      "source": [
        "results, details = run_ode_solver(system, slope_func, method='LSODA', min_step=99)\n",
        "results.index /= 60 * 60 * 24\n",
        "# results.r *= (0.000621371 / 1000)\n",
        "plot(results.y, 'go-')\n",
        "decorate(title='Distance from Sun',\n",
        "         xlabel='Time (days)',\n",
        "         ylabel='Distance from sun (thousand miles)')"
      ],
      "execution_count": 67,
      "outputs": [
        {
          "output_type": "stream",
          "text": [
            "/usr/local/lib/python3.6/dist-packages/scipy/integrate/_ode.py:1348: UserWarning: lsoda: Repeated error test failures (internal error).\n",
            "  self.messages.get(istate, unexpected_istate_msg)))\n"
          ],
          "name": "stderr"
        },
        {
          "output_type": "display_data",
          "data": {
            "image/png": "[encoded data removed]",
            "text/plain": [
              "<matplotlib.figure.Figure at 0x7f3bced7cef0>"
            ]
          },
          "metadata": {
            "tags": []
          }
        }
      ]
    },
    {
      "metadata": {
        "id": "ZBi2VbR7yVL_",
        "colab_type": "code",
        "outputId": "348bc2da-d0e9-48af-ebee-8515b7a426e6",
        "colab": {
          "base_uri": "https://localhost:8080/",
          "height": 297
        }
      },
      "cell_type": "code",
      "source": [
        "plot(results.vy, 'ro-')\n",
        "decorate(title='Earth Velocity',\n",
        "         xlabel='Time (days)',\n",
        "         ylabel='Velocity (m/s)')"
      ],
      "execution_count": 65,
      "outputs": [
        {
          "output_type": "display_data",
          "data": {
            "image/png": "[encoded data removed]",
            "text/plain": [
              "<matplotlib.figure.Figure at 0x7f3bced63390>"
            ]
          },
          "metadata": {
            "tags": []
          }
        }
      ]
    },
    {
      "metadata": {
        "id": "t_xp-0ER-O6t",
        "colab_type": "code",
        "colab": {}
      },
      "cell_type": "code",
      "source": [
        ""
      ],
      "execution_count": 0,
      "outputs": []
    },
    {
      "metadata": {
        "id": "AwVA_CYZ-O_u",
        "colab_type": "code",
        "colab": {}
      },
      "cell_type": "code",
      "source": [
        ""
      ],
      "execution_count": 0,
      "outputs": []
    },
    {
      "metadata": {
        "id": "wNRcyudo-PDq",
        "colab_type": "code",
        "colab": {}
      },
      "cell_type": "code",
      "source": [
        ""
      ],
      "execution_count": 0,
      "outputs": []
    },
    {
      "metadata": {
        "id": "uftDQ7GI-PJG",
        "colab_type": "code",
        "colab": {}
      },
      "cell_type": "code",
      "source": [
        ""
      ],
      "execution_count": 0,
      "outputs": []
    },
    {
      "metadata": {
        "id": "l4LgemZu-PRE",
        "colab_type": "code",
        "colab": {}
      },
      "cell_type": "code",
      "source": [
        ""
      ],
      "execution_count": 0,
      "outputs": []
    },
    {
      "metadata": {
        "id": "k1o3Wo4A-QNK",
        "colab_type": "code",
        "colab": {}
      },
      "cell_type": "code",
      "source": [
        ""
      ],
      "execution_count": 0,
      "outputs": []
    },
    {
      "metadata": {
        "id": "Ax8EsdFJypUT",
        "colab_type": "code",
        "outputId": "57f2e86e-b569-47de-bb1d-38e2e28c8d35",
        "colab": {
          "base_uri": "https://localhost:8080/",
          "height": 34
        }
      },
      "cell_type": "code",
      "source": [
        "# Imports\n",
        "from IPython.display import clear_output\n",
        "import os\n",
        "import time\n",
        "\n",
        "# Install Python libraries\n",
        "!pip3 install pandas seaborn sympy beautifulsoup4 lxml pint scipy==1.1.0 numpy\n",
        "\n",
        "# Removes code before re-downloading it\n",
        "!rm -rf ./ModSimPy\n",
        "!rm -rf ./modsim.py\n",
        "\n",
        "# Grabs ModSimPy\n",
        "!git clone https://github.com/AllenDowney/ModSimPy.git\n",
        "!cp \"ModSimPy/code/modsim.py\" .\n",
        "\n",
        "# Resets kernel to flush outdated libraries (especially SciPy)\n",
        "clear_output()\n",
        "print(\"Configured for ModSimPy. Restarting kernel.\")\n",
        "time.sleep(1)\n",
        "os._exit(0)"
      ],
      "execution_count": 0,
      "outputs": [
        {
          "output_type": "stream",
          "text": [
            "Configured for ModSimPy. Restarting kernel.\n"
          ],
          "name": "stdout"
        }
      ]
    },
    {
      "metadata": {
        "id": "gFAThLbWytK9",
        "colab_type": "code",
        "colab": {}
      },
      "cell_type": "code",
      "source": [
        ""
      ],
      "execution_count": 0,
      "outputs": []
    }
  ]
}