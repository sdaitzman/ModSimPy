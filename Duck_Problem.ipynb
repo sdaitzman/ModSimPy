{
  "nbformat": 4,
  "nbformat_minor": 0,
  "metadata": {
    "colab": {
      "name": "Duck Problem",
      "version": "0.3.2",
      "provenance": [],
      "collapsed_sections": [],
      "include_colab_link": true
    },
    "kernelspec": {
      "display_name": "Python 3",
      "language": "python",
      "name": "python3"
    }
  },
  "cells": [
    {
      "cell_type": "markdown",
      "metadata": {
        "id": "view-in-github",
        "colab_type": "text"
      },
      "source": [
        "<a href=\"https://colab.research.google.com/github/sdaitzman/ModSimPy/blob/master/Duck_Problem.ipynb\" target=\"_parent\"><img src=\"https://colab.research.google.com/assets/colab-badge.svg\" alt=\"Open In Colab\"/></a>"
      ]
    },
    {
      "metadata": {
        "id": "qEb5Fl3ZyVJm",
        "colab_type": "text"
      },
      "cell_type": "markdown",
      "source": [
        "# Duck Problem\n",
        "Sam and Jocelyn"
      ]
    },
    {
      "metadata": {
        "id": "yW7W7kYgwXpc",
        "colab_type": "code",
        "colab": {}
      },
      "cell_type": "code",
      "source": [
        "from modsim import *"
      ],
      "execution_count": 0,
      "outputs": []
    },
    {
      "metadata": {
        "id": "7HdOyi18wfcM",
        "colab_type": "code",
        "colab": {}
      },
      "cell_type": "code",
      "source": [
        "system = System (\n",
        "    density_duck = 0.3, #g/cm^3\n",
        "    density_water = 1,   # g/cm^3"
      ],
      "execution_count": 0,
      "outputs": []
    },
    {
      "metadata": {
        "id": "3Cf0h9kMwfea",
        "colab_type": "code",
        "colab": {}
      },
      "cell_type": "code",
      "source": [
        "def error_func(d, system):\n",
        "  unpack(system)\n",
        "  \n",
        "  volume_duck = (4/3) * pi * r ** 3\n",
        "  mass_duck = volume_duck * density_duck\n",
        "  volume_water = (pi / 3) * (3 * r * d ** 2 - d ** 3)\n",
        "  mass_water = volume_water * density_water\n",
        "  \n",
        "  print(d)\n",
        "  \n",
        "  return mass_duck - mass_water"
      ],
      "execution_count": 0,
      "outputs": []
    },
    {
      "metadata": {
        "id": "b13HxrLZwfg_",
        "colab_type": "code",
        "outputId": "02aa2c31-0965-4f6b-b707-ff6ae74c8a29",
        "colab": {
          "base_uri": "https://localhost:8080/",
          "height": 51
        }
      },
      "cell_type": "code",
      "source": [
        "error_func(3, system)"
      ],
      "execution_count": 0,
      "outputs": [
        {
          "output_type": "stream",
          "text": [
            "3\n"
          ],
          "name": "stdout"
        },
        {
          "output_type": "execute_result",
          "data": {
            "text/plain": [
              "43.982297150257125"
            ]
          },
          "metadata": {
            "tags": []
          },
          "execution_count": 30
        }
      ]
    },
    {
      "metadata": {
        "id": "VC131nNxwfj_",
        "colab_type": "code",
        "outputId": "e2e7a864-e5b0-4a3f-c7b2-7fd409b00b26",
        "colab": {
          "base_uri": "https://localhost:8080/",
          "height": 204
        }
      },
      "cell_type": "code",
      "source": [
        "fsolve(error_func, 3, system)[0]"
      ],
      "execution_count": 0,
      "outputs": [
        {
          "output_type": "stream",
          "text": [
            "3\n",
            "[3]\n",
            "[3.]\n",
            "[3.]\n",
            "[3.00000004]\n",
            "[3.66666666]\n",
            "[3.63105175]\n",
            "[3.63257187]\n",
            "[3.63257491]\n",
            "[3.63257491]\n"
          ],
          "name": "stdout"
        },
        {
          "output_type": "execute_result",
          "data": {
            "text/plain": [
              "3.6325749109056766"
            ]
          },
          "metadata": {
            "tags": []
          },
          "execution_count": 31
        }
      ]
    },
    {
      "metadata": {
        "id": "ObNRqgN-wfmp",
        "colab_type": "code",
        "colab": {}
      },
      "cell_type": "code",
      "source": [
        ""
      ],
      "execution_count": 0,
      "outputs": []
    },
    {
      "metadata": {
        "id": "xgyncKR1wfol",
        "colab_type": "code",
        "colab": {}
      },
      "cell_type": "code",
      "source": [
        ""
      ],
      "execution_count": 0,
      "outputs": []
    },
    {
      "metadata": {
        "id": "9H42tz60wfre",
        "colab_type": "code",
        "colab": {}
      },
      "cell_type": "code",
      "source": [
        ""
      ],
      "execution_count": 0,
      "outputs": []
    },
    {
      "metadata": {
        "id": "8tSxsGURwftr",
        "colab_type": "code",
        "colab": {}
      },
      "cell_type": "code",
      "source": [
        ""
      ],
      "execution_count": 0,
      "outputs": []
    },
    {
      "metadata": {
        "id": "hk2kF4ywwfv9",
        "colab_type": "code",
        "colab": {}
      },
      "cell_type": "code",
      "source": [
        ""
      ],
      "execution_count": 0,
      "outputs": []
    },
    {
      "metadata": {
        "id": "gUV1-abywfyH",
        "colab_type": "code",
        "colab": {}
      },
      "cell_type": "code",
      "source": [
        ""
      ],
      "execution_count": 0,
      "outputs": []
    },
    {
      "metadata": {
        "colab_type": "code",
        "outputId": "eb7d36ab-74c5-4e5e-d976-697b0db7555d",
        "id": "YddhMDFZwVTq",
        "colab": {
          "base_uri": "https://localhost:8080/",
          "height": 34
        }
      },
      "cell_type": "code",
      "source": [
        "# Imports\n",
        "from IPython.display import clear_output\n",
        "import os\n",
        "import time\n",
        "\n",
        "# Install Python libraries\n",
        "!pip3 install pandas seaborn sympy beautifulsoup4 lxml pint scipy==1.1.0 numpy\n",
        "# Removes code before re-downloading it\n",
        "!rm -rf ./ModSimPy\n",
        "!rm -rf ./modsim.py\n",
        "\n",
        "# Grabs ModSimPy\n",
        "!git clone https://github.com/AllenDowney/ModSimPy.git\n",
        "!cp \"ModSimPy/code/modsim.py\" .\n",
        "\n",
        "# Resets kernel to flush outdated libraries (especially SciPy)\n",
        "clear_output()\n",
        "print(\"Configured for ModSimPy. Restarting kernel.\")\n",
        "time.sleep(1)\n",
        "os._exit(0)"
      ],
      "execution_count": 0,
      "outputs": [
        {
          "output_type": "stream",
          "text": [
            "Configured for ModSimPy. Restarting kernel.\n"
          ],
          "name": "stdout"
        }
      ]
    }
  ]
}